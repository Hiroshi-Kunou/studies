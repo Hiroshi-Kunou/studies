{
 "cells": [
  {
   "cell_type": "code",
   "execution_count": 1,
   "metadata": {
    "collapsed": true
   },
   "outputs": [],
   "source": [
    "from bs4 import BeautifulSoup\n",
    "import requests"
   ]
  },
  {
   "cell_type": "code",
   "execution_count": 2,
   "metadata": {
    "collapsed": true
   },
   "outputs": [],
   "source": [
    "import pandas as pd\n",
    "from pandas import Series,DataFrame"
   ]
  },
  {
   "cell_type": "code",
   "execution_count": 3,
   "metadata": {
    "collapsed": true
   },
   "outputs": [],
   "source": [
    "url='http://www.boj.or.jp/about/services/tame/tame_rate/syorei/hou1701.htm/'"
   ]
  },
  {
   "cell_type": "code",
   "execution_count": 4,
   "metadata": {
    "collapsed": false
   },
   "outputs": [],
   "source": [
    "result=requests.get(url)\n",
    "c=result.content"
   ]
  },
  {
   "cell_type": "code",
   "execution_count": 5,
   "metadata": {
    "collapsed": false
   },
   "outputs": [
    {
     "name": "stderr",
     "output_type": "stream",
     "text": [
      "/Users/hiroshikunou/.pyenv/versions/anaconda3-4.1.1/lib/python3.5/site-packages/bs4/__init__.py:166: UserWarning: No parser was explicitly specified, so I'm using the best available HTML parser for this system (\"lxml\"). This usually isn't a problem, but if you run this code on another system, or in a different virtual environment, it may use a different parser and behave differently.\n",
      "\n",
      "To get rid of this warning, change this:\n",
      "\n",
      " BeautifulSoup([your markup])\n",
      "\n",
      "to this:\n",
      "\n",
      " BeautifulSoup([your markup], \"lxml\")\n",
      "\n",
      "  markup_type=markup_type))\n"
     ]
    }
   ],
   "source": [
    "soup=BeautifulSoup(c)"
   ]
  },
  {
   "cell_type": "code",
   "execution_count": 6,
   "metadata": {
    "collapsed": true
   },
   "outputs": [],
   "source": [
    "summary=soup.find(\"div\",{'id':'main2'})\n",
    "tables=summary.find_all('table')"
   ]
  },
  {
   "cell_type": "code",
   "execution_count": 7,
   "metadata": {
    "collapsed": false
   },
   "outputs": [
    {
     "name": "stdout",
     "output_type": "stream",
     "text": [
      "108\n",
      "1\n",
      "1\n",
      "1\n",
      "1\n",
      "1\n",
      "1\n",
      "1\n",
      "1\n",
      "1\n",
      "1\n",
      "1\n",
      "100\n",
      "1\n",
      "1\n",
      "1\n",
      "100\n",
      "100\n",
      "1\n",
      "1\n",
      "100\n",
      "1\n",
      "1\n",
      "100\n",
      "100\n",
      "1\n",
      "100\n",
      "100\n",
      "1\n",
      "100\n",
      "1\n",
      "1\n",
      "1\n",
      "1\n",
      "1\n",
      "1\n",
      "1\n",
      "100\n",
      "1\n",
      "1\n",
      "100\n",
      "100\n",
      "1\n",
      "1\n",
      "1\n",
      "1\n",
      "100\n",
      "1\n",
      "1\n",
      "1\n",
      "1\n",
      "1\n",
      "1\n",
      "1\n",
      "1\n",
      "1\n",
      "1\n",
      "1\n",
      "100\n",
      "1\n",
      "100\n",
      "1\n",
      "\n",
      "円 (108 JPY)\n",
      "カナダ・ドル (1 CAD)\n",
      "中 国 元 (1 CNY)\n",
      "スウェーデン・クローネ (1 SEK)\n",
      "スイス・フラン (1 CHF)\n",
      "スターリング・ポンド (1 GBP)\n",
      "ユーロ (1 EUR)\n",
      "アラブ首長国連邦ディルハム (1 AED)\n",
      "アルゼンチン・ペソ (1 ARS)\n",
      "イスラエル・シェケル (1 ILS)\n",
      "イラン・リアル (1 IRR) \n",
      "インド・ルピー (1 INR)\n",
      "インドネシア・ルピア (100 IDR)\n",
      "オーストラリア・ドル (1 AUD)\n",
      "オマーン・リアル (1 OMR)\n",
      "カタール・リアル (1 QAR)\n",
      "韓国ウォン (100 KRW)\n",
      "カンボジア・リエル (100 KHR)\n",
      "クウェート・ディナール (1 KWD)\n",
      "ケニア・シリング (1 KES)\n",
      "コロンビア・ペソ (100 COP)\n",
      "サウジアラビア・リアル (1 SAR)\n",
      "シンガポール・ドル(1 SGD)\n",
      "新台湾ドル (100 TWD)\n",
      "スリランカ・ルピー (100 LKR)\n",
      "セーシェル・ルピー (1 SCR)\n",
      "タイ・バーツ (100 THB)\n",
      "タヒチ・パシフィックフラン (100 XPF)\n",
      "チェコ・コルナ (1 CZK)\n",
      "チリ・ペソ (100 CLP)\n",
      "デンマーク・クローネ (1 DKK)\n",
      "トリニダード・トバゴ・ドル (1 TTD)\n",
      "トルコ・リラ (1 TRY)\n",
      "ナイジェリア・ナイラ (1 NGN)\n",
      "ニュージーランド・ドル (1 NZD)\n",
      "ノルウェー・クローネ (1 NOK)\n",
      "パキスタン・ルピー (1 PKR)\n",
      "バヌアツ・バツ (100 VUV)\n",
      "パプアニューギニア・キナ (1 PGK)\n",
      "バーレーン・ディナール (1 BHD)\n",
      "ハンガリー・フォリント (100 HUF)\n",
      "バングラデシュ・タカ (100 BDT)\n",
      "フィジー・ドル (1 FJD)\n",
      "フィリピン・ペソ (1 PHP)\n",
      "ブラジル・レアル (1 BRL)\n",
      "ブルネイ・ドル (1 BND)\n",
      "ベトナム・ドン (100 VND)\n",
      "ベネズエラ・ボリーバル (1 VEB)\n",
      "ペルー・ヌエボ・ソル (1 PEN)\n",
      "ポーランド・ズロチ (1 PLN)\n",
      "香港ドル (1 HKD)\n",
      "マレーシア・リンギット (1 MYR)\n",
      "南アフリカ・ラント (1 ZAR)\n",
      "ミャンマー・チャット (1 MMK)\n",
      "メキシコ・ペソ (1 MXN)\n",
      "モーリシャス・ルピー (1 MUR)\n",
      "モロッコ・ディルハム (1 MAD)\n",
      "ヨルダン・ディナール (1 JOD)\n",
      "ラオス・キップ (100 LAK)\n",
      "ルーマニア・レイ (1 RON)\n",
      "ルワンダ・フラン (100 RWF)\n",
      "ロシア・ルーブル (1 RUB)\n",
      "\n",
      "につき\n",
      "につき\n",
      "〃\n",
      "〃\n",
      "〃\n",
      "〃\n",
      "〃\n",
      "〃\n",
      "〃\n",
      "〃\n",
      "〃\n",
      "〃\n",
      "〃\n",
      "〃\n",
      "〃\n",
      "〃\n",
      "〃\n",
      "〃\n",
      "〃\n",
      "〃\n",
      "〃\n",
      "〃\n",
      "〃\n",
      "〃\n",
      "〃\n",
      "〃\n",
      "〃\n",
      "〃\n",
      "〃\n",
      "〃\n",
      "〃\n",
      "〃\n",
      "〃\n",
      "〃\n",
      "〃\n",
      "〃\n",
      "〃\n",
      "〃\n",
      "〃\n",
      "〃\n",
      "〃\n",
      "〃\n",
      "〃\n",
      "〃\n",
      "〃\n",
      "〃\n",
      "〃\n",
      "〃\n",
      "〃\n",
      "〃\n",
      "〃\n",
      "〃\n",
      "〃\n",
      "〃\n",
      "〃\n",
      "〃\n",
      "〃\n",
      "〃\n",
      "〃\n",
      "〃\n",
      "〃\n",
      "〃\n",
      "\n",
      "1\n",
      "0.744\n",
      "0.146\n",
      "0.109\n",
      "1.00\n",
      "1.24\n",
      "1.08\n",
      "0.272\n",
      "0.0652\n",
      "0.260\n",
      "0.0000313\n",
      "0.0148\n",
      "0.00750\n",
      "0.753\n",
      "2.60\n",
      "0.275\n",
      "0.0859\n",
      "0.0243\n",
      "3.29\n",
      "0.00983\n",
      "0.0322\n",
      "0.267\n",
      "0.708\n",
      "3.15\n",
      "0.675\n",
      "0.0755\n",
      "2.83\n",
      "0.903\n",
      "0.0399\n",
      "0.150\n",
      "0.145\n",
      "0.149\n",
      "0.304\n",
      "0.00317\n",
      "0.715\n",
      "0.119\n",
      "0.00953\n",
      "0.921\n",
      "0.315\n",
      "2.65\n",
      "0.349\n",
      "1.27\n",
      "0.483\n",
      "0.0203\n",
      "0.300\n",
      "0.708\n",
      "0.00445\n",
      "0.100\n",
      "0.294\n",
      "0.245\n",
      "0.129\n",
      "0.230\n",
      "0.0717\n",
      "0.000771\n",
      "0.0498\n",
      "0.0279\n",
      "0.100\n",
      "1.41\n",
      "0.0123\n",
      "0.239\n",
      "0.123\n",
      "0.0155\n",
      "\n",
      "米ドル\n",
      "米ドル\n",
      "〃\n",
      "〃\n",
      "〃\n",
      "〃\n",
      "〃\n",
      "〃\n",
      "〃\n",
      "〃\n",
      "〃\n",
      "〃\n",
      "〃\n",
      "〃\n",
      "〃\n",
      "〃\n",
      "〃\n",
      "〃\n",
      "〃\n",
      "〃\n",
      "〃\n",
      "〃\n",
      "〃\n",
      "〃\n",
      "〃\n",
      "〃\n",
      "〃\n",
      "〃\n",
      "〃\n",
      "〃\n",
      "〃\n",
      "〃\n",
      "〃\n",
      "〃\n",
      "〃\n",
      "〃\n",
      "〃\n",
      "〃\n",
      "〃\n",
      "〃\n",
      "〃\n",
      "〃\n",
      "〃\n",
      "〃\n",
      "〃\n",
      "〃\n",
      "〃\n",
      "〃\n",
      "〃\n",
      "〃\n",
      "〃\n",
      "〃\n",
      "〃\n",
      "〃\n",
      "〃\n",
      "〃\n",
      "〃\n",
      "〃\n",
      "〃\n",
      "〃\n",
      "〃\n",
      "〃\n",
      "\n"
     ]
    }
   ],
   "source": [
    "data=[]\n",
    "rows=tables[0].find_all('tr')\n",
    "\n",
    "for tr in rows:\n",
    "    cols=tr.find_all('td')\n",
    "    for td in cols:\n",
    "        text=td.find(text=True)\n",
    "        print(text)\n",
    "        data.append(text)"
   ]
  },
  {
   "cell_type": "code",
   "execution_count": 8,
   "metadata": {
    "collapsed": false
   },
   "outputs": [
    {
     "data": {
      "text/plain": [
       "['108\\n1\\n1\\n1\\n1\\n1\\n1\\n1\\n1\\n1\\n1\\n1\\n100\\n1\\n1\\n1\\n100\\n100\\n1\\n1\\n100\\n1\\n1\\n100\\n100\\n1\\n100\\n100\\n1\\n100\\n1\\n1\\n1\\n1\\n1\\n1\\n1\\n100\\n1\\n1\\n100\\n100\\n1\\n1\\n1\\n1\\n100\\n1\\n1\\n1\\n1\\n1\\n1\\n1\\n1\\n1\\n1\\n1\\n100\\n1\\n100\\n1\\n',\n",
       " '円 (108 JPY)\\nカナダ・ドル (1 CAD)\\n中 国 元 (1 CNY)\\nスウェーデン・クローネ (1 SEK)\\nスイス・フラン (1 CHF)\\nスターリング・ポンド (1 GBP)\\nユーロ (1 EUR)\\nアラブ首長国連邦ディルハム (1 AED)\\nアルゼンチン・ペソ (1 ARS)\\nイスラエル・シェケル (1 ILS)\\nイラン・リアル (1 IRR) \\nインド・ルピー (1 INR)\\nインドネシア・ルピア (100 IDR)\\nオーストラリア・ドル (1 AUD)\\nオマーン・リアル (1 OMR)\\nカタール・リアル (1 QAR)\\n韓国ウォン (100 KRW)\\nカンボジア・リエル (100 KHR)\\nクウェート・ディナール (1 KWD)\\nケニア・シリング (1 KES)\\nコロンビア・ペソ (100 COP)\\nサウジアラビア・リアル (1 SAR)\\nシンガポール・ドル(1 SGD)\\n新台湾ドル (100 TWD)\\nスリランカ・ルピー (100 LKR)\\nセーシェル・ルピー (1 SCR)\\nタイ・バーツ (100 THB)\\nタヒチ・パシフィックフラン (100 XPF)\\nチェコ・コルナ (1 CZK)\\nチリ・ペソ (100 CLP)\\nデンマーク・クローネ (1 DKK)\\nトリニダード・トバゴ・ドル (1 TTD)\\nトルコ・リラ (1 TRY)\\nナイジェリア・ナイラ (1 NGN)\\nニュージーランド・ドル (1 NZD)\\nノルウェー・クローネ (1 NOK)\\nパキスタン・ルピー (1 PKR)\\nバヌアツ・バツ (100 VUV)\\nパプアニューギニア・キナ (1 PGK)\\nバーレーン・ディナール (1 BHD)\\nハンガリー・フォリント (100 HUF)\\nバングラデシュ・タカ (100 BDT)\\nフィジー・ドル (1 FJD)\\nフィリピン・ペソ (1 PHP)\\nブラジル・レアル (1 BRL)\\nブルネイ・ドル (1 BND)\\nベトナム・ドン (100 VND)\\nベネズエラ・ボリーバル (1 VEB)\\nペルー・ヌエボ・ソル (1 PEN)\\nポーランド・ズロチ (1 PLN)\\n香港ドル (1 HKD)\\nマレーシア・リンギット (1 MYR)\\n南アフリカ・ラント (1 ZAR)\\nミャンマー・チャット (1 MMK)\\nメキシコ・ペソ (1 MXN)\\nモーリシャス・ルピー (1 MUR)\\nモロッコ・ディルハム (1 MAD)\\nヨルダン・ディナール (1 JOD)\\nラオス・キップ (100 LAK)\\nルーマニア・レイ (1 RON)\\nルワンダ・フラン (100 RWF)\\nロシア・ルーブル (1 RUB)\\n',\n",
       " 'につき\\nにつき\\n〃\\n〃\\n〃\\n〃\\n〃\\n〃\\n〃\\n〃\\n〃\\n〃\\n〃\\n〃\\n〃\\n〃\\n〃\\n〃\\n〃\\n〃\\n〃\\n〃\\n〃\\n〃\\n〃\\n〃\\n〃\\n〃\\n〃\\n〃\\n〃\\n〃\\n〃\\n〃\\n〃\\n〃\\n〃\\n〃\\n〃\\n〃\\n〃\\n〃\\n〃\\n〃\\n〃\\n〃\\n〃\\n〃\\n〃\\n〃\\n〃\\n〃\\n〃\\n〃\\n〃\\n〃\\n〃\\n〃\\n〃\\n〃\\n〃\\n〃\\n',\n",
       " '1\\n0.744\\n0.146\\n0.109\\n1.00\\n1.24\\n1.08\\n0.272\\n0.0652\\n0.260\\n0.0000313\\n0.0148\\n0.00750\\n0.753\\n2.60\\n0.275\\n0.0859\\n0.0243\\n3.29\\n0.00983\\n0.0322\\n0.267\\n0.708\\n3.15\\n0.675\\n0.0755\\n2.83\\n0.903\\n0.0399\\n0.150\\n0.145\\n0.149\\n0.304\\n0.00317\\n0.715\\n0.119\\n0.00953\\n0.921\\n0.315\\n2.65\\n0.349\\n1.27\\n0.483\\n0.0203\\n0.300\\n0.708\\n0.00445\\n0.100\\n0.294\\n0.245\\n0.129\\n0.230\\n0.0717\\n0.000771\\n0.0498\\n0.0279\\n0.100\\n1.41\\n0.0123\\n0.239\\n0.123\\n0.0155\\n',\n",
       " '米ドル\\n米ドル\\n〃\\n〃\\n〃\\n〃\\n〃\\n〃\\n〃\\n〃\\n〃\\n〃\\n〃\\n〃\\n〃\\n〃\\n〃\\n〃\\n〃\\n〃\\n〃\\n〃\\n〃\\n〃\\n〃\\n〃\\n〃\\n〃\\n〃\\n〃\\n〃\\n〃\\n〃\\n〃\\n〃\\n〃\\n〃\\n〃\\n〃\\n〃\\n〃\\n〃\\n〃\\n〃\\n〃\\n〃\\n〃\\n〃\\n〃\\n〃\\n〃\\n〃\\n〃\\n〃\\n〃\\n〃\\n〃\\n〃\\n〃\\n〃\\n〃\\n〃\\n']"
      ]
     },
     "execution_count": 8,
     "metadata": {},
     "output_type": "execute_result"
    }
   ],
   "source": [
    "data"
   ]
  },
  {
   "cell_type": "code",
   "execution_count": 9,
   "metadata": {
    "collapsed": false
   },
   "outputs": [
    {
     "ename": "AttributeError",
     "evalue": "'list' object has no attribute 'split'",
     "output_type": "error",
     "traceback": [
      "\u001b[0;31m---------------------------------------------------------------------------\u001b[0m",
      "\u001b[0;31mAttributeError\u001b[0m                            Traceback (most recent call last)",
      "\u001b[0;32m<ipython-input-9-f14e24653eca>\u001b[0m in \u001b[0;36m<module>\u001b[0;34m()\u001b[0m\n\u001b[0;32m----> 1\u001b[0;31m \u001b[0mdata\u001b[0m\u001b[0;34m.\u001b[0m\u001b[0msplit\u001b[0m\u001b[0;34m(\u001b[0m\u001b[0;34m'\\n'\u001b[0m\u001b[0;34m)\u001b[0m\u001b[0;34m\u001b[0m\u001b[0m\n\u001b[0m",
      "\u001b[0;31mAttributeError\u001b[0m: 'list' object has no attribute 'split'"
     ]
    }
   ],
   "source": [
    "data.split('\\n')"
   ]
  },
  {
   "cell_type": "code",
   "execution_count": null,
   "metadata": {
    "collapsed": false
   },
   "outputs": [],
   "source": [
    "data2"
   ]
  },
  {
   "cell_type": "code",
   "execution_count": 10,
   "metadata": {
    "collapsed": false
   },
   "outputs": [],
   "source": [
    "first=data[0]"
   ]
  },
  {
   "cell_type": "code",
   "execution_count": 11,
   "metadata": {
    "collapsed": false
   },
   "outputs": [
    {
     "data": {
      "text/plain": [
       "'108\\n1\\n1\\n1\\n1\\n1\\n1\\n1\\n1\\n1\\n1\\n1\\n100\\n1\\n1\\n1\\n100\\n100\\n1\\n1\\n100\\n1\\n1\\n100\\n100\\n1\\n100\\n100\\n1\\n100\\n1\\n1\\n1\\n1\\n1\\n1\\n1\\n100\\n1\\n1\\n100\\n100\\n1\\n1\\n1\\n1\\n100\\n1\\n1\\n1\\n1\\n1\\n1\\n1\\n1\\n1\\n1\\n1\\n100\\n1\\n100\\n1\\n'"
      ]
     },
     "execution_count": 11,
     "metadata": {},
     "output_type": "execute_result"
    }
   ],
   "source": [
    "first"
   ]
  },
  {
   "cell_type": "code",
   "execution_count": 12,
   "metadata": {
    "collapsed": false
   },
   "outputs": [
    {
     "data": {
      "text/plain": [
       "['108',\n",
       " '1',\n",
       " '1',\n",
       " '1',\n",
       " '1',\n",
       " '1',\n",
       " '1',\n",
       " '1',\n",
       " '1',\n",
       " '1',\n",
       " '1',\n",
       " '1',\n",
       " '100',\n",
       " '1',\n",
       " '1',\n",
       " '1',\n",
       " '100',\n",
       " '100',\n",
       " '1',\n",
       " '1',\n",
       " '100',\n",
       " '1',\n",
       " '1',\n",
       " '100',\n",
       " '100',\n",
       " '1',\n",
       " '100',\n",
       " '100',\n",
       " '1',\n",
       " '100',\n",
       " '1',\n",
       " '1',\n",
       " '1',\n",
       " '1',\n",
       " '1',\n",
       " '1',\n",
       " '1',\n",
       " '100',\n",
       " '1',\n",
       " '1',\n",
       " '100',\n",
       " '100',\n",
       " '1',\n",
       " '1',\n",
       " '1',\n",
       " '1',\n",
       " '100',\n",
       " '1',\n",
       " '1',\n",
       " '1',\n",
       " '1',\n",
       " '1',\n",
       " '1',\n",
       " '1',\n",
       " '1',\n",
       " '1',\n",
       " '1',\n",
       " '1',\n",
       " '100',\n",
       " '1',\n",
       " '100',\n",
       " '1',\n",
       " '']"
      ]
     },
     "execution_count": 12,
     "metadata": {},
     "output_type": "execute_result"
    }
   ],
   "source": [
    "first.split('\\n')"
   ]
  },
  {
   "cell_type": "code",
   "execution_count": 13,
   "metadata": {
    "collapsed": false
   },
   "outputs": [
    {
     "ename": "AttributeError",
     "evalue": "'list' object has no attribute 'split'",
     "output_type": "error",
     "traceback": [
      "\u001b[0;31m---------------------------------------------------------------------------\u001b[0m",
      "\u001b[0;31mAttributeError\u001b[0m                            Traceback (most recent call last)",
      "\u001b[0;32m<ipython-input-13-f14e24653eca>\u001b[0m in \u001b[0;36m<module>\u001b[0;34m()\u001b[0m\n\u001b[0;32m----> 1\u001b[0;31m \u001b[0mdata\u001b[0m\u001b[0;34m.\u001b[0m\u001b[0msplit\u001b[0m\u001b[0;34m(\u001b[0m\u001b[0;34m'\\n'\u001b[0m\u001b[0;34m)\u001b[0m\u001b[0;34m\u001b[0m\u001b[0m\n\u001b[0m",
      "\u001b[0;31mAttributeError\u001b[0m: 'list' object has no attribute 'split'"
     ]
    }
   ],
   "source": [
    "data.split('\\n')"
   ]
  },
  {
   "cell_type": "code",
   "execution_count": 14,
   "metadata": {
    "collapsed": false
   },
   "outputs": [
    {
     "data": {
      "text/plain": [
       "['円 (108 JPY)',\n",
       " 'カナダ・ドル (1 CAD)',\n",
       " '中 国 元 (1 CNY)',\n",
       " 'スウェーデン・クローネ (1 SEK)',\n",
       " 'スイス・フラン (1 CHF)',\n",
       " 'スターリング・ポンド (1 GBP)',\n",
       " 'ユーロ (1 EUR)',\n",
       " 'アラブ首長国連邦ディルハム (1 AED)',\n",
       " 'アルゼンチン・ペソ (1 ARS)',\n",
       " 'イスラエル・シェケル (1 ILS)',\n",
       " 'イラン・リアル (1 IRR) ',\n",
       " 'インド・ルピー (1 INR)',\n",
       " 'インドネシア・ルピア (100 IDR)',\n",
       " 'オーストラリア・ドル (1 AUD)',\n",
       " 'オマーン・リアル (1 OMR)',\n",
       " 'カタール・リアル (1 QAR)',\n",
       " '韓国ウォン (100 KRW)',\n",
       " 'カンボジア・リエル (100 KHR)',\n",
       " 'クウェート・ディナール (1 KWD)',\n",
       " 'ケニア・シリング (1 KES)',\n",
       " 'コロンビア・ペソ (100 COP)',\n",
       " 'サウジアラビア・リアル (1 SAR)',\n",
       " 'シンガポール・ドル(1 SGD)',\n",
       " '新台湾ドル (100 TWD)',\n",
       " 'スリランカ・ルピー (100 LKR)',\n",
       " 'セーシェル・ルピー (1 SCR)',\n",
       " 'タイ・バーツ (100 THB)',\n",
       " 'タヒチ・パシフィックフラン (100 XPF)',\n",
       " 'チェコ・コルナ (1 CZK)',\n",
       " 'チリ・ペソ (100 CLP)',\n",
       " 'デンマーク・クローネ (1 DKK)',\n",
       " 'トリニダード・トバゴ・ドル (1 TTD)',\n",
       " 'トルコ・リラ (1 TRY)',\n",
       " 'ナイジェリア・ナイラ (1 NGN)',\n",
       " 'ニュージーランド・ドル (1 NZD)',\n",
       " 'ノルウェー・クローネ (1 NOK)',\n",
       " 'パキスタン・ルピー (1 PKR)',\n",
       " 'バヌアツ・バツ (100 VUV)',\n",
       " 'パプアニューギニア・キナ (1 PGK)',\n",
       " 'バーレーン・ディナール (1 BHD)',\n",
       " 'ハンガリー・フォリント (100 HUF)',\n",
       " 'バングラデシュ・タカ (100 BDT)',\n",
       " 'フィジー・ドル (1 FJD)',\n",
       " 'フィリピン・ペソ (1 PHP)',\n",
       " 'ブラジル・レアル (1 BRL)',\n",
       " 'ブルネイ・ドル (1 BND)',\n",
       " 'ベトナム・ドン (100 VND)',\n",
       " 'ベネズエラ・ボリーバル (1 VEB)',\n",
       " 'ペルー・ヌエボ・ソル (1 PEN)',\n",
       " 'ポーランド・ズロチ (1 PLN)',\n",
       " '香港ドル (1 HKD)',\n",
       " 'マレーシア・リンギット (1 MYR)',\n",
       " '南アフリカ・ラント (1 ZAR)',\n",
       " 'ミャンマー・チャット (1 MMK)',\n",
       " 'メキシコ・ペソ (1 MXN)',\n",
       " 'モーリシャス・ルピー (1 MUR)',\n",
       " 'モロッコ・ディルハム (1 MAD)',\n",
       " 'ヨルダン・ディナール (1 JOD)',\n",
       " 'ラオス・キップ (100 LAK)',\n",
       " 'ルーマニア・レイ (1 RON)',\n",
       " 'ルワンダ・フラン (100 RWF)',\n",
       " 'ロシア・ルーブル (1 RUB)',\n",
       " '']"
      ]
     },
     "execution_count": 14,
     "metadata": {},
     "output_type": "execute_result"
    }
   ],
   "source": [
    "second=data[1]\n",
    "second.split('\\n')"
   ]
  },
  {
   "cell_type": "code",
   "execution_count": 15,
   "metadata": {
    "collapsed": false
   },
   "outputs": [
    {
     "data": {
      "text/plain": [
       "['につき',\n",
       " 'につき',\n",
       " '〃',\n",
       " '〃',\n",
       " '〃',\n",
       " '〃',\n",
       " '〃',\n",
       " '〃',\n",
       " '〃',\n",
       " '〃',\n",
       " '〃',\n",
       " '〃',\n",
       " '〃',\n",
       " '〃',\n",
       " '〃',\n",
       " '〃',\n",
       " '〃',\n",
       " '〃',\n",
       " '〃',\n",
       " '〃',\n",
       " '〃',\n",
       " '〃',\n",
       " '〃',\n",
       " '〃',\n",
       " '〃',\n",
       " '〃',\n",
       " '〃',\n",
       " '〃',\n",
       " '〃',\n",
       " '〃',\n",
       " '〃',\n",
       " '〃',\n",
       " '〃',\n",
       " '〃',\n",
       " '〃',\n",
       " '〃',\n",
       " '〃',\n",
       " '〃',\n",
       " '〃',\n",
       " '〃',\n",
       " '〃',\n",
       " '〃',\n",
       " '〃',\n",
       " '〃',\n",
       " '〃',\n",
       " '〃',\n",
       " '〃',\n",
       " '〃',\n",
       " '〃',\n",
       " '〃',\n",
       " '〃',\n",
       " '〃',\n",
       " '〃',\n",
       " '〃',\n",
       " '〃',\n",
       " '〃',\n",
       " '〃',\n",
       " '〃',\n",
       " '〃',\n",
       " '〃',\n",
       " '〃',\n",
       " '〃',\n",
       " '']"
      ]
     },
     "execution_count": 15,
     "metadata": {},
     "output_type": "execute_result"
    }
   ],
   "source": [
    "third=data[2]\n",
    "third.split('\\n')"
   ]
  },
  {
   "cell_type": "code",
   "execution_count": 16,
   "metadata": {
    "collapsed": false
   },
   "outputs": [
    {
     "data": {
      "text/plain": [
       "['1',\n",
       " '0.744',\n",
       " '0.146',\n",
       " '0.109',\n",
       " '1.00',\n",
       " '1.24',\n",
       " '1.08',\n",
       " '0.272',\n",
       " '0.0652',\n",
       " '0.260',\n",
       " '0.0000313',\n",
       " '0.0148',\n",
       " '0.00750',\n",
       " '0.753',\n",
       " '2.60',\n",
       " '0.275',\n",
       " '0.0859',\n",
       " '0.0243',\n",
       " '3.29',\n",
       " '0.00983',\n",
       " '0.0322',\n",
       " '0.267',\n",
       " '0.708',\n",
       " '3.15',\n",
       " '0.675',\n",
       " '0.0755',\n",
       " '2.83',\n",
       " '0.903',\n",
       " '0.0399',\n",
       " '0.150',\n",
       " '0.145',\n",
       " '0.149',\n",
       " '0.304',\n",
       " '0.00317',\n",
       " '0.715',\n",
       " '0.119',\n",
       " '0.00953',\n",
       " '0.921',\n",
       " '0.315',\n",
       " '2.65',\n",
       " '0.349',\n",
       " '1.27',\n",
       " '0.483',\n",
       " '0.0203',\n",
       " '0.300',\n",
       " '0.708',\n",
       " '0.00445',\n",
       " '0.100',\n",
       " '0.294',\n",
       " '0.245',\n",
       " '0.129',\n",
       " '0.230',\n",
       " '0.0717',\n",
       " '0.000771',\n",
       " '0.0498',\n",
       " '0.0279',\n",
       " '0.100',\n",
       " '1.41',\n",
       " '0.0123',\n",
       " '0.239',\n",
       " '0.123',\n",
       " '0.0155',\n",
       " '']"
      ]
     },
     "execution_count": 16,
     "metadata": {},
     "output_type": "execute_result"
    }
   ],
   "source": [
    "fours=data[3]\n",
    "fours.split('\\n')"
   ]
  },
  {
   "cell_type": "code",
   "execution_count": 17,
   "metadata": {
    "collapsed": false
   },
   "outputs": [],
   "source": [
    "import seaborn as sns"
   ]
  },
  {
   "cell_type": "code",
   "execution_count": 18,
   "metadata": {
    "collapsed": false
   },
   "outputs": [
    {
     "data": {
      "text/plain": [
       "'108\\n1\\n1\\n1\\n1\\n1\\n1\\n1\\n1\\n1\\n1\\n1\\n100\\n1\\n1\\n1\\n100\\n100\\n1\\n1\\n100\\n1\\n1\\n100\\n100\\n1\\n100\\n100\\n1\\n100\\n1\\n1\\n1\\n1\\n1\\n1\\n1\\n100\\n1\\n1\\n100\\n100\\n1\\n1\\n1\\n1\\n100\\n1\\n1\\n1\\n1\\n1\\n1\\n1\\n1\\n1\\n1\\n1\\n100\\n1\\n100\\n1\\n'"
      ]
     },
     "execution_count": 18,
     "metadata": {},
     "output_type": "execute_result"
    }
   ],
   "source": [
    "first"
   ]
  },
  {
   "cell_type": "code",
   "execution_count": 19,
   "metadata": {
    "collapsed": false
   },
   "outputs": [],
   "source": [
    "first=Series(first)\n",
    "second=Series(second)\n",
    "third=Series(third)\n",
    "fours=Series(fours)"
   ]
  },
  {
   "cell_type": "code",
   "execution_count": 20,
   "metadata": {
    "collapsed": false
   },
   "outputs": [
    {
     "data": {
      "text/plain": [
       "0    108\n",
       "1\n",
       "1\n",
       "1\n",
       "1\n",
       "1\n",
       "1\n",
       "1\n",
       "1\n",
       "1\n",
       "1\n",
       "1\n",
       "100\n",
       "1\n",
       "1\n",
       "1\n",
       "100\n",
       "100\n",
       "1\n",
       "...\n",
       "dtype: object"
      ]
     },
     "execution_count": 20,
     "metadata": {},
     "output_type": "execute_result"
    }
   ],
   "source": [
    "first"
   ]
  },
  {
   "cell_type": "code",
   "execution_count": 21,
   "metadata": {
    "collapsed": false
   },
   "outputs": [],
   "source": [
    "data_df=pd.concat([first,second,third,fours],axis=1)"
   ]
  },
  {
   "cell_type": "code",
   "execution_count": 22,
   "metadata": {
    "collapsed": false
   },
   "outputs": [
    {
     "data": {
      "text/html": [
       "<div>\n",
       "<table border=\"1\" class=\"dataframe\">\n",
       "  <thead>\n",
       "    <tr style=\"text-align: right;\">\n",
       "      <th></th>\n",
       "      <th>0</th>\n",
       "      <th>1</th>\n",
       "      <th>2</th>\n",
       "      <th>3</th>\n",
       "    </tr>\n",
       "  </thead>\n",
       "  <tbody>\n",
       "    <tr>\n",
       "      <th>0</th>\n",
       "      <td>108\n",
       "1\n",
       "1\n",
       "1\n",
       "1\n",
       "1\n",
       "1\n",
       "1\n",
       "1\n",
       "1\n",
       "1\n",
       "1\n",
       "100\n",
       "1\n",
       "1\n",
       "1\n",
       "100\n",
       "100\n",
       "1\n",
       "...</td>\n",
       "      <td>円 (108 JPY)\n",
       "カナダ・ドル (1 CAD)\n",
       "中 国 元 (1 CNY)\n",
       "スウェーデ...</td>\n",
       "      <td>につき\n",
       "につき\n",
       "〃\n",
       "〃\n",
       "〃\n",
       "〃\n",
       "〃\n",
       "〃\n",
       "〃\n",
       "〃\n",
       "〃\n",
       "〃\n",
       "〃\n",
       "〃\n",
       "〃\n",
       "〃\n",
       "〃\n",
       "〃\n",
       "〃\n",
       "〃\n",
       "〃\n",
       "...</td>\n",
       "      <td>1\n",
       "0.744\n",
       "0.146\n",
       "0.109\n",
       "1.00\n",
       "1.24\n",
       "1.08\n",
       "0.272\n",
       "0.065...</td>\n",
       "    </tr>\n",
       "  </tbody>\n",
       "</table>\n",
       "</div>"
      ],
      "text/plain": [
       "                                                   0  \\\n",
       "0  108\n",
       "1\n",
       "1\n",
       "1\n",
       "1\n",
       "1\n",
       "1\n",
       "1\n",
       "1\n",
       "1\n",
       "1\n",
       "1\n",
       "100\n",
       "1\n",
       "1\n",
       "1\n",
       "100\n",
       "100\n",
       "1\n",
       "...   \n",
       "\n",
       "                                                   1  \\\n",
       "0  円 (108 JPY)\n",
       "カナダ・ドル (1 CAD)\n",
       "中 国 元 (1 CNY)\n",
       "スウェーデ...   \n",
       "\n",
       "                                                   2  \\\n",
       "0  につき\n",
       "につき\n",
       "〃\n",
       "〃\n",
       "〃\n",
       "〃\n",
       "〃\n",
       "〃\n",
       "〃\n",
       "〃\n",
       "〃\n",
       "〃\n",
       "〃\n",
       "〃\n",
       "〃\n",
       "〃\n",
       "〃\n",
       "〃\n",
       "〃\n",
       "〃\n",
       "〃\n",
       "...   \n",
       "\n",
       "                                                   3  \n",
       "0  1\n",
       "0.744\n",
       "0.146\n",
       "0.109\n",
       "1.00\n",
       "1.24\n",
       "1.08\n",
       "0.272\n",
       "0.065...  "
      ]
     },
     "execution_count": 22,
     "metadata": {},
     "output_type": "execute_result"
    }
   ],
   "source": [
    "data_df.head()"
   ]
  },
  {
   "cell_type": "code",
   "execution_count": null,
   "metadata": {
    "collapsed": true
   },
   "outputs": [],
   "source": []
  },
  {
   "cell_type": "code",
   "execution_count": null,
   "metadata": {
    "collapsed": true
   },
   "outputs": [],
   "source": []
  },
  {
   "cell_type": "code",
   "execution_count": null,
   "metadata": {
    "collapsed": true
   },
   "outputs": [],
   "source": []
  },
  {
   "cell_type": "code",
   "execution_count": null,
   "metadata": {
    "collapsed": true
   },
   "outputs": [],
   "source": []
  },
  {
   "cell_type": "code",
   "execution_count": null,
   "metadata": {
    "collapsed": true
   },
   "outputs": [],
   "source": []
  },
  {
   "cell_type": "code",
   "execution_count": null,
   "metadata": {
    "collapsed": true
   },
   "outputs": [],
   "source": []
  }
 ],
 "metadata": {
  "kernelspec": {
   "display_name": "Python [Root]",
   "language": "python",
   "name": "Python [Root]"
  },
  "language_info": {
   "codemirror_mode": {
    "name": "ipython",
    "version": 3
   },
   "file_extension": ".py",
   "mimetype": "text/x-python",
   "name": "python",
   "nbconvert_exporter": "python",
   "pygments_lexer": "ipython3",
   "version": "3.5.2"
  }
 },
 "nbformat": 4,
 "nbformat_minor": 0
}
